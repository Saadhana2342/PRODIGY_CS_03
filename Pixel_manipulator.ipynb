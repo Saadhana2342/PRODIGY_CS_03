{
 "cells": [
  {
   "cell_type": "code",
   "execution_count": 35,
   "id": "b6354986-608f-4602-a4bc-5bbe26b258b0",
   "metadata": {
    "tags": []
   },
   "outputs": [
    {
     "name": "stdout",
     "output_type": "stream",
     "text": [
      "Requirement already satisfied: pillow in c:\\users\\admin\\anaconda3\\lib\\site-packages (9.4.0)\n",
      "Requirement already satisfied: numpy in c:\\users\\admin\\anaconda3\\lib\\site-packages (1.24.3)\n",
      "Note: you may need to restart the kernel to use updated packages.\n"
     ]
    }
   ],
   "source": [
    "pip install pillow numpy\n"
   ]
  },
  {
   "cell_type": "code",
   "execution_count": 36,
   "id": "2a99f255-0c5c-462d-a263-fcda565757a9",
   "metadata": {
    "tags": []
   },
   "outputs": [
    {
     "name": "stdout",
     "output_type": "stream",
     "text": [
      "An error occurred: cannot identify image file <_io.BytesIO object at 0x0000014172DD5300>\n"
     ]
    }
   ],
   "source": [
    "from PIL import Image\n",
    "from IPython.display import display\n",
    "import requests\n",
    "from io import BytesIO\n",
    "\n",
    "def apply_sepia(image_url):\n",
    "    try:\n",
    "        # Download the image from the internet\n",
    "        response = requests.get(image_url)\n",
    "        response.raise_for_status()  # Check if the request was successful\n",
    "        \n",
    "        # Load the image into a PIL Image object\n",
    "        img = Image.open(BytesIO(response.content))\n",
    "        img = img.convert(\"RGB\")  # Ensure RGB mode for consistency\n",
    "\n",
    "        # Get the pixel data\n",
    "        pixels = img.load()\n",
    "        \n",
    "        # Apply sepia filter\n",
    "        for y in range(img.height):\n",
    "            for x in range(img.width):\n",
    "                # Get the RGB values of the pixel\n",
    "                r, g, b = pixels[x, y]\n",
    "                \n",
    "                # Calculate new pixel values\n",
    "                tr = int(0.393 * r + 0.769 * g + 0.189 * b)\n",
    "                tg = int(0.349 * r + 0.686 * g + 0.168 * b)\n",
    "                tb = int(0.272 * r + 0.534 * g + 0.131 * b)\n",
    "                \n",
    "                # Make sure each channel is in the range [0, 255]\n",
    "                r, g, b = min(tr, 255), min(tg, 255), min(tb, 255)\n",
    "                \n",
    "                # Update the pixel with the new values\n",
    "                pixels[x, y] = (r, g, b)\n",
    "        \n",
    "        # Display the modified image in JupyterLab\n",
    "        display(img)\n",
    "        \n",
    "    except requests.exceptions.RequestException as e:\n",
    "        print(f\"Failed to retrieve image: {e}\")\n",
    "    except IOError as e:\n",
    "        print(f\"Cannot identify image file. Error: {e}\")\n",
    "    except Exception as e:\n",
    "        print(f\"An error occurred: {e}\")\n",
    "\n",
    "# Run the function with a reliable image URL\n",
    "image_url = \"https://www.w3.org/People/mimasa/test/imgformat/img/w3c_home.jpg\"  # Use a valid image URL\n",
    "apply_sepia(image_url)\n"
   ]
  },
  {
   "cell_type": "code",
   "execution_count": 39,
   "id": "c2bda9ed-ef92-40ed-bc4f-a2c177e31201",
   "metadata": {
    "tags": []
   },
   "outputs": [
    {
     "data": {
      "image/png": "[encoded data removed]",
      "text/plain": [
       "<PIL.Image.Image image mode=RGB size=72x48>"
      ]
     },
     "metadata": {},
     "output_type": "display_data"
    }
   ],
   "source": [
    "from PIL import Image\n",
    "from IPython.display import display\n",
    "import requests\n",
    "from io import BytesIO\n",
    "\n",
    "def apply_sepia(image_url):\n",
    "    try:\n",
    "        # Download the image from the internet\n",
    "        response = requests.get(image_url)\n",
    "        response.raise_for_status()  # Check if the request was successful\n",
    "        \n",
    "        # Load the image into a PIL Image object\n",
    "        img = Image.open(BytesIO(response.content))\n",
    "        img = img.convert(\"RGB\")  # Ensure RGB mode for consistency\n",
    "\n",
    "        # Get the pixel data\n",
    "        pixels = img.load()\n",
    "        \n",
    "        # Apply sepia filter\n",
    "        for y in range(img.height):\n",
    "            for x in range(img.width):\n",
    "                # Get the RGB values of the pixel\n",
    "                r, g, b = pixels[x, y]\n",
    "                \n",
    "                # Calculate new pixel values\n",
    "                tr = int(0.393 * r + 0.769 * g + 0.189 * b)\n",
    "                tg = int(0.349 * r + 0.686 * g + 0.168 * b)\n",
    "                tb = int(0.272 * r + 0.534 * g + 0.131 * b)\n",
    "                \n",
    "                # Make sure each channel is in the range [0, 255]\n",
    "                r, g, b = min(tr, 255), min(tg, 255), min(tb, 255)\n",
    "                \n",
    "                # Update the pixel with the new values\n",
    "                pixels[x, y] = (r, g, b)\n",
    "        \n",
    "        # Display the modified image in JupyterLab\n",
    "        display(img)\n",
    "        \n",
    "    except requests.exceptions.RequestException as e:\n",
    "        print(f\"Failed to retrieve image: {e}\")\n",
    "    except IOError as e:\n",
    "        print(f\"Cannot identify image file. Error: {e}\")\n",
    "    except Exception as e:\n",
    "        print(f\"An error occurred: {e}\")\n",
    "\n",
    "# Run the function with a reliable image URL\n",
    "image_url = \"https://www.w3.org/People/mimasa/test/imgformat/img/w3c_home.jpg\"  # Use a valid image URL\n",
    "apply_sepia(image_url)\n"
   ]
  },
  {
   "cell_type": "code",
   "execution_count": null,
   "id": "c07c7d81-036e-4b16-aeaa-366a7c4afa8b",
   "metadata": {},
   "outputs": [],
   "source": []
  }
 ],
 "metadata": {
  "kernelspec": {
   "display_name": "Python 3 (ipykernel)",
   "language": "python",
   "name": "python3"
  },
  "language_info": {
   "codemirror_mode": {
    "name": "ipython",
    "version": 3
   },
   "file_extension": ".py",
   "mimetype": "text/x-python",
   "name": "python",
   "nbconvert_exporter": "python",
   "pygments_lexer": "ipython3",
   "version": "3.11.5"
  }
 },
 "nbformat": 4,
 "nbformat_minor": 5
}
